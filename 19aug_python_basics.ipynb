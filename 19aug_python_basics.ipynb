{
 "cells": [
  {
   "cell_type": "code",
   "execution_count": 1,
   "id": "0e37b9fd",
   "metadata": {},
   "outputs": [],
   "source": [
    "vishal = 15236"
   ]
  },
  {
   "cell_type": "code",
   "execution_count": 2,
   "id": "98240975",
   "metadata": {},
   "outputs": [
    {
     "data": {
      "text/plain": [
       "15236"
      ]
     },
     "execution_count": 2,
     "metadata": {},
     "output_type": "execute_result"
    }
   ],
   "source": [
    "vishal"
   ]
  },
  {
   "cell_type": "code",
   "execution_count": 3,
   "id": "2c84a254",
   "metadata": {},
   "outputs": [],
   "source": [
    "c=5+6j"
   ]
  },
  {
   "cell_type": "code",
   "execution_count": 4,
   "id": "883ddad5",
   "metadata": {},
   "outputs": [
    {
     "data": {
      "text/plain": [
       "complex"
      ]
     },
     "execution_count": 4,
     "metadata": {},
     "output_type": "execute_result"
    }
   ],
   "source": [
    "type(c)"
   ]
  },
  {
   "cell_type": "code",
   "execution_count": 5,
   "id": "2e01c495",
   "metadata": {},
   "outputs": [
    {
     "data": {
      "text/plain": [
       "5.0"
      ]
     },
     "execution_count": 5,
     "metadata": {},
     "output_type": "execute_result"
    }
   ],
   "source": [
    "c.real"
   ]
  },
  {
   "cell_type": "code",
   "execution_count": 6,
   "id": "89b1d022",
   "metadata": {},
   "outputs": [
    {
     "data": {
      "text/plain": [
       "6.0"
      ]
     },
     "execution_count": 6,
     "metadata": {},
     "output_type": "execute_result"
    }
   ],
   "source": [
    "c.imag"
   ]
  },
  {
   "cell_type": "code",
   "execution_count": 7,
   "id": "27785f95",
   "metadata": {},
   "outputs": [],
   "source": [
    "b= True"
   ]
  },
  {
   "cell_type": "code",
   "execution_count": 8,
   "id": "17e87d2d",
   "metadata": {},
   "outputs": [
    {
     "data": {
      "text/plain": [
       "bool"
      ]
     },
     "execution_count": 8,
     "metadata": {},
     "output_type": "execute_result"
    }
   ],
   "source": [
    "type(b)"
   ]
  },
  {
   "cell_type": "code",
   "execution_count": 9,
   "id": "89f8271f",
   "metadata": {},
   "outputs": [],
   "source": [
    "v=\"vishal\""
   ]
  },
  {
   "cell_type": "code",
   "execution_count": 10,
   "id": "2fbf0131",
   "metadata": {},
   "outputs": [
    {
     "data": {
      "text/plain": [
       "str"
      ]
     },
     "execution_count": 10,
     "metadata": {},
     "output_type": "execute_result"
    }
   ],
   "source": [
    "type(v)"
   ]
  },
  {
   "cell_type": "code",
   "execution_count": 13,
   "id": "a7fd4eb7",
   "metadata": {},
   "outputs": [],
   "source": [
    "a1 , a2 =10 ,52"
   ]
  },
  {
   "cell_type": "code",
   "execution_count": 14,
   "id": "f68e0d36",
   "metadata": {},
   "outputs": [
    {
     "data": {
      "text/plain": [
       "10"
      ]
     },
     "execution_count": 14,
     "metadata": {},
     "output_type": "execute_result"
    }
   ],
   "source": [
    "a1"
   ]
  },
  {
   "cell_type": "code",
   "execution_count": 15,
   "id": "57706844",
   "metadata": {},
   "outputs": [
    {
     "name": "stderr",
     "output_type": "stream",
     "text": [
      "UsageError: Line magic function `%v` not found.\n"
     ]
    }
   ],
   "source": [
    "%v = 153"
   ]
  },
  {
   "cell_type": "code",
   "execution_count": null,
   "id": "e54710af",
   "metadata": {},
   "outputs": [],
   "source": []
  },
  {
   "cell_type": "code",
   "execution_count": null,
   "id": "b8e7fdc8",
   "metadata": {},
   "outputs": [],
   "source": []
  },
  {
   "cell_type": "code",
   "execution_count": null,
   "id": "dcfa5432",
   "metadata": {},
   "outputs": [],
   "source": []
  },
  {
   "cell_type": "code",
   "execution_count": 1,
   "id": "dc5ee978",
   "metadata": {},
   "outputs": [],
   "source": [
    "x=100 #creating variables with integer values \n",
    "y=200"
   ]
  },
  {
   "cell_type": "code",
   "execution_count": 2,
   "id": "c815bd62",
   "metadata": {},
   "outputs": [],
   "source": [
    "x,y=y,x #swapping values wihtout temporary variables"
   ]
  },
  {
   "cell_type": "code",
   "execution_count": 3,
   "id": "7875459f",
   "metadata": {},
   "outputs": [
    {
     "name": "stdout",
     "output_type": "stream",
     "text": [
      "after swapping:\n",
      "x= 200\n",
      "y= 100\n"
     ]
    }
   ],
   "source": [
    "print('after swapping:')\n",
    "print('x=',x)\n",
    "print('y=',y)"
   ]
  },
  {
   "cell_type": "code",
   "execution_count": 10,
   "id": "ffb09309",
   "metadata": {},
   "outputs": [
    {
     "name": "stdout",
     "output_type": "stream",
     "text": [
      "Enter the length of the rectangle: 20\n",
      "Enter the width of the rectangle: 25\n"
     ]
    }
   ],
   "source": [
    "#creating program that calculates the area of rectangle.\n",
    "length=float(input(\"Enter the length of the rectangle: \"))\n",
    "width=float(input(\"Enter the width of the rectangle: \"))\n",
    "area=length*width"
   ]
  },
  {
   "cell_type": "code",
   "execution_count": 13,
   "id": "53fafc0e",
   "metadata": {},
   "outputs": [
    {
     "name": "stdout",
     "output_type": "stream",
     "text": [
      "the area of the rectangle= 500.0\n"
     ]
    }
   ],
   "source": [
    "print(\"the area of the rectangle=\",area)"
   ]
  },
  {
   "cell_type": "code",
   "execution_count": 3,
   "id": "9754e5ae",
   "metadata": {},
   "outputs": [
    {
     "name": "stdout",
     "output_type": "stream",
     "text": [
      "enter the temperature in celsius: 98\n"
     ]
    }
   ],
   "source": [
    "#converting the temperature from celsius to fahrenheit\n",
    "celsius=float(input(\"enter the temperature in celsius: \"))\n",
    "fahrenheit=(celsius*9/5)+32\n"
   ]
  },
  {
   "cell_type": "code",
   "execution_count": 4,
   "id": "e56e126a",
   "metadata": {},
   "outputs": [
    {
     "name": "stdout",
     "output_type": "stream",
     "text": [
      "Temperature in fahrenheit 208.4\n"
     ]
    }
   ],
   "source": [
    "print(\"Temperature in fahrenheit\",fahrenheit)"
   ]
  },
  {
   "cell_type": "code",
   "execution_count": 39,
   "id": "72fd5df6",
   "metadata": {},
   "outputs": [
    {
     "name": "stdout",
     "output_type": "stream",
     "text": [
      "Enter a string: vishal r motirale\n",
      "Length of the string: 17\n"
     ]
    }
   ],
   "source": [
    "#get input from the user \n",
    "input_string = input(\"Enter a string: \")\n",
    "\n",
    "#Calculate the length of the string\n",
    "string_length = len(input_string)\n",
    "\n",
    "#Display the length of the string\n",
    "print(\"Length of the string:\", string_length)\n"
   ]
  },
  {
   "cell_type": "code",
   "execution_count": 40,
   "id": "5f8fe00d",
   "metadata": {},
   "outputs": [
    {
     "name": "stdout",
     "output_type": "stream",
     "text": [
      "enter the sentence= i am ironman\n"
     ]
    }
   ],
   "source": [
    "#get a sentence from the user \n",
    "sentence=input(\"enter the sentence= \")"
   ]
  },
  {
   "cell_type": "code",
   "execution_count": 41,
   "id": "57c24ff3",
   "metadata": {},
   "outputs": [
    {
     "name": "stdout",
     "output_type": "stream",
     "text": [
      "number of vowels in the sentence:  1\n",
      "number of vowels in the sentence:  2\n",
      "number of vowels in the sentence:  3\n",
      "number of vowels in the sentence:  4\n",
      "number of vowels in the sentence:  5\n"
     ]
    }
   ],
   "source": [
    "#count the vowel in the string\n",
    "vowel_count=0\n",
    "for char in sentence:\n",
    "    if char in \"aeiou\":\n",
    "        vowel_count +=1\n",
    "        print(\"number of vowels in the sentence: \",vowel_count)"
   ]
  },
  {
   "cell_type": "code",
   "execution_count": 46,
   "id": "a5a624da",
   "metadata": {},
   "outputs": [],
   "source": [
    "#get a string\n",
    "name=\"vishalr motirale\""
   ]
  },
  {
   "cell_type": "code",
   "execution_count": 44,
   "id": "db1d1741",
   "metadata": {},
   "outputs": [],
   "source": [
    "#reverse the string by slicing\n",
    "reverse_string=name[::-1]"
   ]
  },
  {
   "cell_type": "code",
   "execution_count": 45,
   "id": "0a43ff70",
   "metadata": {},
   "outputs": [
    {
     "name": "stdout",
     "output_type": "stream",
     "text": [
      "reverse_string: elaritom rlahsiv\n"
     ]
    }
   ],
   "source": [
    "print(\"reverse_string:\",reverse_string)"
   ]
  },
  {
   "cell_type": "code",
   "execution_count": 47,
   "id": "45e0606d",
   "metadata": {},
   "outputs": [
    {
     "name": "stdout",
     "output_type": "stream",
     "text": [
      "Enter a string: i am vishal\n",
      "the inpit in not palindrom.\n"
     ]
    }
   ],
   "source": [
    "#get a string and check if it is a palindrom or not \n",
    "input_string = input(\"Enter a string: \")\n",
    "if name == reverse_string:\n",
    "  print(\"the input is palindrom.\")\n",
    "else: \n",
    " print(\"the inpit in not palindrom.\")"
   ]
  },
  {
   "cell_type": "code",
   "execution_count": 48,
   "id": "311fb185",
   "metadata": {},
   "outputs": [],
   "source": [
    "#get a string and remove all the spaces from it.\n",
    "input_string=name.replace(\" \",\"\")"
   ]
  },
  {
   "cell_type": "code",
   "execution_count": 49,
   "id": "40fa9486",
   "metadata": {},
   "outputs": [
    {
     "name": "stdout",
     "output_type": "stream",
     "text": [
      "vishalrmotirale\n"
     ]
    }
   ],
   "source": [
    "print(input_string)"
   ]
  },
  {
   "cell_type": "code",
   "execution_count": null,
   "id": "a6cd7a04",
   "metadata": {},
   "outputs": [],
   "source": []
  }
 ],
 "metadata": {
  "kernelspec": {
   "display_name": "Python 3 (ipykernel)",
   "language": "python",
   "name": "python3"
  },
  "language_info": {
   "codemirror_mode": {
    "name": "ipython",
    "version": 3
   },
   "file_extension": ".py",
   "mimetype": "text/x-python",
   "name": "python",
   "nbconvert_exporter": "python",
   "pygments_lexer": "ipython3",
   "version": "3.11.3"
  }
 },
 "nbformat": 4,
 "nbformat_minor": 5
}
